{
 "cells": [
  {
   "cell_type": "code",
   "execution_count": 3,
   "id": "827ec1b8",
   "metadata": {},
   "outputs": [],
   "source": [
    "import pymongo\n",
    "from pymongo import MongoClient"
   ]
  },
  {
   "cell_type": "code",
   "execution_count": null,
   "id": "2d17466e",
   "metadata": {},
   "outputs": [],
   "source": [
    "connection_string = \"mongodb+srv://mrh0396:<password>@cluster0.e3c8x6v.mongodb.net/?retryWrites=true&w=majority&appName=Cluster0\""
   ]
  },
  {
   "cell_type": "code",
   "execution_count": 15,
   "id": "243dd8b4",
   "metadata": {},
   "outputs": [],
   "source": [
    "client = MongoClient(connection_string)"
   ]
  },
  {
   "cell_type": "code",
   "execution_count": 16,
   "id": "2c93121a",
   "metadata": {},
   "outputs": [],
   "source": [
    "db=client['Kiran']"
   ]
  },
  {
   "cell_type": "code",
   "execution_count": 17,
   "id": "969608cf",
   "metadata": {},
   "outputs": [],
   "source": [
    "collection = db[\"MongoClass\"]"
   ]
  },
  {
   "cell_type": "code",
   "execution_count": 18,
   "id": "4dbd4cb7",
   "metadata": {},
   "outputs": [],
   "source": [
    "data ={\n",
    "    \"name\":\"Kiran Singh\",\n",
    "    \"class\":2,\n",
    "    \"email\":\"2241018@sliet.ac.in\"\n",
    "}"
   ]
  },
  {
   "cell_type": "code",
   "execution_count": 19,
   "id": "a9a6b5a4",
   "metadata": {},
   "outputs": [
    {
     "data": {
      "text/plain": [
       "InsertOneResult(ObjectId('68a76df5157a33635f37caa1'), acknowledged=True)"
      ]
     },
     "execution_count": 19,
     "metadata": {},
     "output_type": "execute_result"
    }
   ],
   "source": [
    "collection.insert_one(data)"
   ]
  },
  {
   "cell_type": "code",
   "execution_count": 21,
   "id": "5d7b9446",
   "metadata": {},
   "outputs": [
    {
     "name": "stdout",
     "output_type": "stream",
     "text": [
      "{'_id': ObjectId('68a76df5157a33635f37caa1'), 'name': 'Kiran Singh', 'class': 2, 'email': '2241018@sliet.ac.in'}\n"
     ]
    }
   ],
   "source": [
    "cursor = collection.find({})\n",
    "for i in cursor:\n",
    "    print(i)"
   ]
  }
 ],
 "metadata": {
  "kernelspec": {
   "display_name": "Python 3",
   "language": "python",
   "name": "python3"
  },
  "language_info": {
   "codemirror_mode": {
    "name": "ipython",
    "version": 3
   },
   "file_extension": ".py",
   "mimetype": "text/x-python",
   "name": "python",
   "nbconvert_exporter": "python",
   "pygments_lexer": "ipython3",
   "version": "3.11.9"
  }
 },
 "nbformat": 4,
 "nbformat_minor": 5
}
